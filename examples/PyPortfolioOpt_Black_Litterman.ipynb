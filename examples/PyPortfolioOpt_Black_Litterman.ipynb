{
 "cells": [
  {
   "cell_type": "markdown",
   "id": "c6019b69",
   "metadata": {},
   "source": [
    "# Black Litterman Model\n",
    "\n",
    "https://github.com/robertmartin8/PyPortfolioOpt/blob/master/cookbook/4-Black-Litterman-Allocation.ipynb\n",
    "\n",
    "https://qiita.com/nokomitch/items/0d1812763114e6266bf3"
   ]
  },
  {
   "cell_type": "code",
   "execution_count": 1,
   "id": "f1baf2e2",
   "metadata": {},
   "outputs": [],
   "source": [
    "import datetime\n",
    "import numpy as np\n",
    "import pandas as pd\n",
    "import matplotlib.pyplot as plt\n",
    "\n",
    "import yfinance as yf\n",
    "import pypfopt as pfo\n",
    "from pypfopt import plotting"
   ]
  },
  {
   "cell_type": "markdown",
   "id": "4de5bd21",
   "metadata": {},
   "source": [
    "### データ取得"
   ]
  },
  {
   "cell_type": "code",
   "execution_count": 2,
   "id": "50bddde3",
   "metadata": {},
   "outputs": [],
   "source": [
    "tickers = [\"MSFT\", \"AMZN\", \"NAT\", \"BAC\", \"DPZ\", \"DIS\", \"KO\", \"MCD\", \"COST\"]\n",
    "start_date = datetime.datetime(2012, 4, 1)\n",
    "end_date = None #  datetime.datetime(2022, 3, 31)"
   ]
  },
  {
   "cell_type": "code",
   "execution_count": 3,
   "id": "a38ae72d",
   "metadata": {},
   "outputs": [
    {
     "name": "stdout",
     "output_type": "stream",
     "text": [
      "[*********************100%***********************]  9 of 9 completed\n"
     ]
    },
    {
     "data": {
      "text/html": [
       "<div>\n",
       "<style scoped>\n",
       "    .dataframe tbody tr th:only-of-type {\n",
       "        vertical-align: middle;\n",
       "    }\n",
       "\n",
       "    .dataframe tbody tr th {\n",
       "        vertical-align: top;\n",
       "    }\n",
       "\n",
       "    .dataframe thead th {\n",
       "        text-align: right;\n",
       "    }\n",
       "</style>\n",
       "<table border=\"1\" class=\"dataframe\">\n",
       "  <thead>\n",
       "    <tr style=\"text-align: right;\">\n",
       "      <th></th>\n",
       "      <th>AMZN</th>\n",
       "      <th>BAC</th>\n",
       "      <th>COST</th>\n",
       "      <th>DIS</th>\n",
       "      <th>DPZ</th>\n",
       "      <th>KO</th>\n",
       "      <th>MCD</th>\n",
       "      <th>MSFT</th>\n",
       "      <th>NAT</th>\n",
       "    </tr>\n",
       "    <tr>\n",
       "      <th>Date</th>\n",
       "      <th></th>\n",
       "      <th></th>\n",
       "      <th></th>\n",
       "      <th></th>\n",
       "      <th></th>\n",
       "      <th></th>\n",
       "      <th></th>\n",
       "      <th></th>\n",
       "      <th></th>\n",
       "    </tr>\n",
       "  </thead>\n",
       "  <tbody>\n",
       "    <tr>\n",
       "      <th>2022-06-16</th>\n",
       "      <td>103.660004</td>\n",
       "      <td>31.850000</td>\n",
       "      <td>451.760010</td>\n",
       "      <td>94.279999</td>\n",
       "      <td>379.549988</td>\n",
       "      <td>59.070000</td>\n",
       "      <td>235.190002</td>\n",
       "      <td>244.970001</td>\n",
       "      <td>1.95</td>\n",
       "    </tr>\n",
       "    <tr>\n",
       "      <th>2022-06-17</th>\n",
       "      <td>106.220001</td>\n",
       "      <td>31.920000</td>\n",
       "      <td>446.690002</td>\n",
       "      <td>94.339996</td>\n",
       "      <td>379.170013</td>\n",
       "      <td>59.430000</td>\n",
       "      <td>234.380005</td>\n",
       "      <td>247.649994</td>\n",
       "      <td>1.89</td>\n",
       "    </tr>\n",
       "    <tr>\n",
       "      <th>2022-06-21</th>\n",
       "      <td>108.680000</td>\n",
       "      <td>32.849998</td>\n",
       "      <td>463.109985</td>\n",
       "      <td>93.290001</td>\n",
       "      <td>386.359985</td>\n",
       "      <td>60.700001</td>\n",
       "      <td>239.589996</td>\n",
       "      <td>253.740005</td>\n",
       "      <td>2.09</td>\n",
       "    </tr>\n",
       "    <tr>\n",
       "      <th>2022-06-22</th>\n",
       "      <td>108.949997</td>\n",
       "      <td>32.599998</td>\n",
       "      <td>459.959991</td>\n",
       "      <td>93.500000</td>\n",
       "      <td>389.760010</td>\n",
       "      <td>61.150002</td>\n",
       "      <td>243.059998</td>\n",
       "      <td>253.130005</td>\n",
       "      <td>2.03</td>\n",
       "    </tr>\n",
       "    <tr>\n",
       "      <th>2022-06-23</th>\n",
       "      <td>112.440002</td>\n",
       "      <td>32.080002</td>\n",
       "      <td>475.000000</td>\n",
       "      <td>94.300003</td>\n",
       "      <td>398.130005</td>\n",
       "      <td>61.880001</td>\n",
       "      <td>243.580002</td>\n",
       "      <td>258.859985</td>\n",
       "      <td>2.04</td>\n",
       "    </tr>\n",
       "  </tbody>\n",
       "</table>\n",
       "</div>"
      ],
      "text/plain": [
       "                  AMZN        BAC        COST        DIS         DPZ  \\\n",
       "Date                                                                   \n",
       "2022-06-16  103.660004  31.850000  451.760010  94.279999  379.549988   \n",
       "2022-06-17  106.220001  31.920000  446.690002  94.339996  379.170013   \n",
       "2022-06-21  108.680000  32.849998  463.109985  93.290001  386.359985   \n",
       "2022-06-22  108.949997  32.599998  459.959991  93.500000  389.760010   \n",
       "2022-06-23  112.440002  32.080002  475.000000  94.300003  398.130005   \n",
       "\n",
       "                   KO         MCD        MSFT   NAT  \n",
       "Date                                                 \n",
       "2022-06-16  59.070000  235.190002  244.970001  1.95  \n",
       "2022-06-17  59.430000  234.380005  247.649994  1.89  \n",
       "2022-06-21  60.700001  239.589996  253.740005  2.09  \n",
       "2022-06-22  61.150002  243.059998  253.130005  2.03  \n",
       "2022-06-23  61.880001  243.580002  258.859985  2.04  "
      ]
     },
     "execution_count": 3,
     "metadata": {},
     "output_type": "execute_result"
    }
   ],
   "source": [
    "df_ohlc = yf.download(tickers, period=\"max\")\n",
    "df_prices = df_ohlc[\"Adj Close\"]\n",
    "df_prices = df_prices.loc[start_date:end_date]\n",
    "df_prices.tail()"
   ]
  },
  {
   "cell_type": "code",
   "execution_count": 4,
   "id": "ecbde7bf",
   "metadata": {},
   "outputs": [
    {
     "name": "stdout",
     "output_type": "stream",
     "text": [
      "[*********************100%***********************]  1 of 1 completed\n"
     ]
    },
    {
     "data": {
      "text/plain": [
       "Date\n",
       "2022-06-16    365.072998\n",
       "2022-06-17    365.859985\n",
       "2022-06-21    375.070007\n",
       "2022-06-22    374.390015\n",
       "2022-06-23    378.059998\n",
       "Name: Adj Close, dtype: float64"
      ]
     },
     "execution_count": 4,
     "metadata": {},
     "output_type": "execute_result"
    }
   ],
   "source": [
    "df_market_prices = yf.download(\"SPY\", period=\"max\")[\"Adj Close\"]\n",
    "df_market_prices = df_market_prices.loc[start_date:end_date]\n",
    "df_market_prices.tail()"
   ]
  },
  {
   "cell_type": "code",
   "execution_count": 5,
   "id": "25ea8f0c",
   "metadata": {},
   "outputs": [
    {
     "data": {
      "text/plain": [
       "{'MSFT': 1936021520384,\n",
       " 'AMZN': 1144009654272,\n",
       " 'NAT': 411412896,\n",
       " 'BAC': 258464727040,\n",
       " 'DPZ': 14350636032,\n",
       " 'DIS': 171765563392,\n",
       " 'KO': 268251643904,\n",
       " 'MCD': 182013935616,\n",
       " 'COST': 210630197248}"
      ]
     },
     "execution_count": 5,
     "metadata": {},
     "output_type": "execute_result"
    }
   ],
   "source": [
    "mcaps = {t: yf.Ticker(t).info[\"marketCap\"] for t in tickers}\n",
    "mcaps"
   ]
  },
  {
   "cell_type": "markdown",
   "id": "97b8ab34",
   "metadata": {},
   "source": [
    "## Black Litterman Model"
   ]
  },
  {
   "cell_type": "markdown",
   "id": "2802f14d",
   "metadata": {},
   "source": [
    "### marketから事前情報を取得"
   ]
  },
  {
   "cell_type": "code",
   "execution_count": 6,
   "id": "dd00a8a8",
   "metadata": {},
   "outputs": [],
   "source": [
    "S = pfo.risk_models.CovarianceShrinkage(df_prices).ledoit_wolf()"
   ]
  },
  {
   "cell_type": "code",
   "execution_count": 7,
   "id": "f1e6361f",
   "metadata": {},
   "outputs": [
    {
     "data": {
      "image/png": "[encoded data removed]",
      "text/plain": [
       "<Figure size 432x288 with 2 Axes>"
      ]
     },
     "metadata": {
      "needs_background": "light"
     },
     "output_type": "display_data"
    }
   ],
   "source": [
    "pfo.plotting.plot_covariance(S, plot_correlation=True);"
   ]
  },
  {
   "cell_type": "code",
   "execution_count": 8,
   "id": "93fcac3d",
   "metadata": {},
   "outputs": [
    {
     "data": {
      "text/plain": [
       "3.883998629483102"
      ]
     },
     "execution_count": 8,
     "metadata": {},
     "output_type": "execute_result"
    }
   ],
   "source": [
    "# implied risk aversion\n",
    "delta = pfo.black_litterman.market_implied_risk_aversion(df_market_prices)\n",
    "delta"
   ]
  },
  {
   "cell_type": "code",
   "execution_count": 9,
   "id": "5f3d5b9e",
   "metadata": {},
   "outputs": [
    {
     "data": {
      "text/plain": [
       "AMZN    0.231741\n",
       "BAC     0.159281\n",
       "COST    0.114356\n",
       "DIS     0.134117\n",
       "DPZ     0.109884\n",
       "KO      0.090210\n",
       "MCD     0.104942\n",
       "MSFT    0.219335\n",
       "NAT     0.139898\n",
       "dtype: float64"
      ]
     },
     "execution_count": 9,
     "metadata": {},
     "output_type": "execute_result"
    }
   ],
   "source": [
    "# implied prior returns\n",
    "market_prior = pfo.black_litterman.market_implied_prior_returns(mcaps, delta, S)\n",
    "market_prior"
   ]
  },
  {
   "cell_type": "code",
   "execution_count": 10,
   "id": "36b06cfb",
   "metadata": {},
   "outputs": [
    {
     "data": {
      "image/png": "[encoded data removed]",
      "text/plain": [
       "<Figure size 720x360 with 1 Axes>"
      ]
     },
     "metadata": {
      "needs_background": "light"
     },
     "output_type": "display_data"
    }
   ],
   "source": [
    "market_prior.plot.barh(figsize=(10,5));"
   ]
  },
  {
   "cell_type": "markdown",
   "id": "ee6d2cdc",
   "metadata": {},
   "source": [
    "### 投資家の予想"
   ]
  },
  {
   "cell_type": "code",
   "execution_count": 11,
   "id": "6119ac58",
   "metadata": {},
   "outputs": [],
   "source": [
    "# You don't have to provide views on all the assets\n",
    "viewdict = {\n",
    "    \"AMZN\": 0.10,\n",
    "    \"BAC\": 0.30,\n",
    "    \"COST\": 0.05,\n",
    "    \"DIS\": 0.05,\n",
    "#     \"DPZ\": 0.20,\n",
    "    \"KO\": -0.05,  # I think Coca-Cola will go down 5%\n",
    "    \"MCD\": 0.15,\n",
    "    \"MSFT\": 0.10,\n",
    "    \"NAT\": 0.20,  # but low confidence, which will be reflected later\n",
    "}\n",
    "\n",
    "# view_confidences = [\n",
    "#     0.6,\n",
    "#     0.4,\n",
    "#     0.2,\n",
    "#     0.5,\n",
    "#     0.7, # confident in dominos\n",
    "#     0.7, # confident KO will do poorly\n",
    "#     0.7, \n",
    "#     0.5,\n",
    "#     0.1,\n",
    "# ]"
   ]
  },
  {
   "cell_type": "markdown",
   "id": "4d018bd6",
   "metadata": {},
   "source": [
    "### 事後分布を計算\n",
    " https://pyportfolioopt.readthedocs.io/en/latest/BlackLitterman.html"
   ]
  },
  {
   "cell_type": "code",
   "execution_count": 12,
   "id": "18a18fbb",
   "metadata": {},
   "outputs": [],
   "source": [
    "bl = pfo.BlackLittermanModel(\n",
    "    S,\n",
    "    pi=market_prior,\n",
    "    absolute_views=viewdict,\n",
    "#     Q=None,\n",
    "#     P=None,\n",
    "#     omega=\"idzorek\",\n",
    "#     view_confidences=view_confidences,\n",
    "#     tau=0.05,\n",
    "#     risk_aversion=1\n",
    ")"
   ]
  },
  {
   "cell_type": "markdown",
   "id": "f7af4275",
   "metadata": {},
   "source": [
    "### 結果の確認"
   ]
  },
  {
   "cell_type": "code",
   "execution_count": 13,
   "id": "1d9c23b3",
   "metadata": {},
   "outputs": [
    {
     "data": {
      "text/plain": [
       "AMZN    0.151382\n",
       "BAC     0.185442\n",
       "COST    0.065511\n",
       "DIS     0.088402\n",
       "DPZ     0.083799\n",
       "KO      0.026227\n",
       "MCD     0.101295\n",
       "MSFT    0.149796\n",
       "NAT     0.161717\n",
       "dtype: float64"
      ]
     },
     "execution_count": 13,
     "metadata": {},
     "output_type": "execute_result"
    }
   ],
   "source": [
    "# Posterior estimate of returns\n",
    "return_bl = bl.bl_returns()\n",
    "return_bl"
   ]
  },
  {
   "cell_type": "code",
   "execution_count": 14,
   "id": "9d6dd5b6",
   "metadata": {},
   "outputs": [
    {
     "data": {
      "text/html": [
       "<div>\n",
       "<style scoped>\n",
       "    .dataframe tbody tr th:only-of-type {\n",
       "        vertical-align: middle;\n",
       "    }\n",
       "\n",
       "    .dataframe tbody tr th {\n",
       "        vertical-align: top;\n",
       "    }\n",
       "\n",
       "    .dataframe thead th {\n",
       "        text-align: right;\n",
       "    }\n",
       "</style>\n",
       "<table border=\"1\" class=\"dataframe\">\n",
       "  <thead>\n",
       "    <tr style=\"text-align: right;\">\n",
       "      <th></th>\n",
       "      <th>Prior</th>\n",
       "      <th>Posterior</th>\n",
       "      <th>Views</th>\n",
       "    </tr>\n",
       "  </thead>\n",
       "  <tbody>\n",
       "    <tr>\n",
       "      <th>AMZN</th>\n",
       "      <td>0.231741</td>\n",
       "      <td>0.151382</td>\n",
       "      <td>0.10</td>\n",
       "    </tr>\n",
       "    <tr>\n",
       "      <th>BAC</th>\n",
       "      <td>0.159281</td>\n",
       "      <td>0.185442</td>\n",
       "      <td>0.30</td>\n",
       "    </tr>\n",
       "    <tr>\n",
       "      <th>COST</th>\n",
       "      <td>0.114356</td>\n",
       "      <td>0.065511</td>\n",
       "      <td>0.05</td>\n",
       "    </tr>\n",
       "    <tr>\n",
       "      <th>DIS</th>\n",
       "      <td>0.134117</td>\n",
       "      <td>0.088402</td>\n",
       "      <td>0.05</td>\n",
       "    </tr>\n",
       "    <tr>\n",
       "      <th>DPZ</th>\n",
       "      <td>0.109884</td>\n",
       "      <td>0.083799</td>\n",
       "      <td>NaN</td>\n",
       "    </tr>\n",
       "    <tr>\n",
       "      <th>KO</th>\n",
       "      <td>0.090210</td>\n",
       "      <td>0.026227</td>\n",
       "      <td>-0.05</td>\n",
       "    </tr>\n",
       "    <tr>\n",
       "      <th>MCD</th>\n",
       "      <td>0.104942</td>\n",
       "      <td>0.101295</td>\n",
       "      <td>0.15</td>\n",
       "    </tr>\n",
       "    <tr>\n",
       "      <th>MSFT</th>\n",
       "      <td>0.219335</td>\n",
       "      <td>0.149796</td>\n",
       "      <td>0.10</td>\n",
       "    </tr>\n",
       "    <tr>\n",
       "      <th>NAT</th>\n",
       "      <td>0.139898</td>\n",
       "      <td>0.161717</td>\n",
       "      <td>0.20</td>\n",
       "    </tr>\n",
       "  </tbody>\n",
       "</table>\n",
       "</div>"
      ],
      "text/plain": [
       "         Prior  Posterior  Views\n",
       "AMZN  0.231741   0.151382   0.10\n",
       "BAC   0.159281   0.185442   0.30\n",
       "COST  0.114356   0.065511   0.05\n",
       "DIS   0.134117   0.088402   0.05\n",
       "DPZ   0.109884   0.083799    NaN\n",
       "KO    0.090210   0.026227  -0.05\n",
       "MCD   0.104942   0.101295   0.15\n",
       "MSFT  0.219335   0.149796   0.10\n",
       "NAT   0.139898   0.161717   0.20"
      ]
     },
     "execution_count": 14,
     "metadata": {},
     "output_type": "execute_result"
    }
   ],
   "source": [
    "df_returns = pd.DataFrame(\n",
    "    [market_prior, return_bl, pd.Series(viewdict)],\n",
    "    index=[\"Prior\", \"Posterior\", \"Views\"]\n",
    ").T\n",
    "df_returns"
   ]
  },
  {
   "cell_type": "code",
   "execution_count": 15,
   "id": "7ef38c3c",
   "metadata": {},
   "outputs": [
    {
     "data": {
      "image/png": "[encoded data removed]",
      "text/plain": [
       "<Figure size 864x576 with 1 Axes>"
      ]
     },
     "metadata": {
      "needs_background": "light"
     },
     "output_type": "display_data"
    }
   ],
   "source": [
    "df_returns.plot.bar(figsize=(12,8));"
   ]
  },
  {
   "cell_type": "code",
   "execution_count": 16,
   "id": "71afaaf9",
   "metadata": {},
   "outputs": [
    {
     "data": {
      "image/png": "[encoded data removed]",
      "text/plain": [
       "<Figure size 432x288 with 2 Axes>"
      ]
     },
     "metadata": {
      "needs_background": "light"
     },
     "output_type": "display_data"
    }
   ],
   "source": [
    "S_bl = bl.bl_cov()\n",
    "plotting.plot_covariance(S_bl);"
   ]
  },
  {
   "cell_type": "markdown",
   "id": "e1aca2c5",
   "metadata": {},
   "source": [
    "### ポートフォリオ最適化"
   ]
  },
  {
   "cell_type": "code",
   "execution_count": 17,
   "id": "c0b983b7",
   "metadata": {},
   "outputs": [
    {
     "data": {
      "text/plain": [
       "OrderedDict([('AMZN', 0.1682577049539032),\n",
       "             ('BAC', 0.3395247902247508),\n",
       "             ('COST', 0.0),\n",
       "             ('DIS', 0.0),\n",
       "             ('DPZ', 0.0041282791614057),\n",
       "             ('KO', 0.0),\n",
       "             ('MCD', 0.211341030392651),\n",
       "             ('MSFT', 0.2395169261754073),\n",
       "             ('NAT', 0.037231269091882)])"
      ]
     },
     "execution_count": 17,
     "metadata": {},
     "output_type": "execute_result"
    }
   ],
   "source": [
    "ef = pfo.EfficientFrontier(return_bl, S_bl)\n",
    "ef.max_sharpe()"
   ]
  },
  {
   "cell_type": "code",
   "execution_count": 18,
   "id": "21b133a4",
   "metadata": {},
   "outputs": [
    {
     "data": {
      "text/plain": [
       "OrderedDict([('AMZN', 0.16826),\n",
       "             ('BAC', 0.33952),\n",
       "             ('COST', 0.0),\n",
       "             ('DIS', 0.0),\n",
       "             ('DPZ', 0.00413),\n",
       "             ('KO', 0.0),\n",
       "             ('MCD', 0.21134),\n",
       "             ('MSFT', 0.23952),\n",
       "             ('NAT', 0.03723)])"
      ]
     },
     "execution_count": 18,
     "metadata": {},
     "output_type": "execute_result"
    }
   ],
   "source": [
    "# market weight\n",
    "weights = ef.clean_weights()\n",
    "weights"
   ]
  },
  {
   "cell_type": "code",
   "execution_count": null,
   "id": "66e05e45",
   "metadata": {},
   "outputs": [],
   "source": []
  }
 ],
 "metadata": {
  "kernelspec": {
   "display_name": "Python 3",
   "language": "python",
   "name": "python3"
  },
  "language_info": {
   "codemirror_mode": {
    "name": "ipython",
    "version": 3
   },
   "file_extension": ".py",
   "mimetype": "text/x-python",
   "name": "python",
   "nbconvert_exporter": "python",
   "pygments_lexer": "ipython3",
   "version": "3.8.10"
  }
 },
 "nbformat": 4,
 "nbformat_minor": 5
}
