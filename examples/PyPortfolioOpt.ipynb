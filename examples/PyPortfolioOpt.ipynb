{
 "cells": [
  {
   "cell_type": "markdown",
   "id": "e886821b",
   "metadata": {},
   "source": [
    "# PyPortfolioOpt"
   ]
  },
  {
   "cell_type": "code",
   "execution_count": 1,
   "id": "556607a8",
   "metadata": {},
   "outputs": [],
   "source": [
    "import numpy as np\n",
    "import pandas as pd\n",
    "import matplotlib.pyplot as plt"
   ]
  },
  {
   "cell_type": "markdown",
   "id": "5de8709c",
   "metadata": {},
   "source": [
    "### データ取得"
   ]
  },
  {
   "cell_type": "code",
   "execution_count": 2,
   "id": "24205478",
   "metadata": {},
   "outputs": [],
   "source": [
    "import datetime\n",
    "import yfinance as yf"
   ]
  },
  {
   "cell_type": "code",
   "execution_count": 3,
   "id": "24fe9e01",
   "metadata": {},
   "outputs": [],
   "source": [
    "tickers = [\"MSFT\", \"AMZN\", \"NAT\", \"BAC\", \"DPZ\"]\n",
    "start_date = datetime.datetime(2012, 4, 1)\n",
    "end_date = datetime.datetime(2022, 3, 31)"
   ]
  },
  {
   "cell_type": "code",
   "execution_count": 4,
   "id": "cb892586",
   "metadata": {},
   "outputs": [
    {
     "name": "stdout",
     "output_type": "stream",
     "text": [
      "[*********************100%***********************]  5 of 5 completed\n"
     ]
    },
    {
     "data": {
      "text/html": [
       "<div>\n",
       "<style scoped>\n",
       "    .dataframe tbody tr th:only-of-type {\n",
       "        vertical-align: middle;\n",
       "    }\n",
       "\n",
       "    .dataframe tbody tr th {\n",
       "        vertical-align: top;\n",
       "    }\n",
       "\n",
       "    .dataframe thead th {\n",
       "        text-align: right;\n",
       "    }\n",
       "</style>\n",
       "<table border=\"1\" class=\"dataframe\">\n",
       "  <thead>\n",
       "    <tr style=\"text-align: right;\">\n",
       "      <th></th>\n",
       "      <th>AMZN</th>\n",
       "      <th>BAC</th>\n",
       "      <th>DPZ</th>\n",
       "      <th>MSFT</th>\n",
       "      <th>NAT</th>\n",
       "    </tr>\n",
       "    <tr>\n",
       "      <th>Date</th>\n",
       "      <th></th>\n",
       "      <th></th>\n",
       "      <th></th>\n",
       "      <th></th>\n",
       "      <th></th>\n",
       "    </tr>\n",
       "  </thead>\n",
       "  <tbody>\n",
       "    <tr>\n",
       "      <th>2022-03-25</th>\n",
       "      <td>164.773499</td>\n",
       "      <td>43.479568</td>\n",
       "      <td>393.599213</td>\n",
       "      <td>302.974335</td>\n",
       "      <td>1.871827</td>\n",
       "    </tr>\n",
       "    <tr>\n",
       "      <th>2022-03-28</th>\n",
       "      <td>168.990494</td>\n",
       "      <td>43.300598</td>\n",
       "      <td>397.916718</td>\n",
       "      <td>309.978058</td>\n",
       "      <td>1.782692</td>\n",
       "    </tr>\n",
       "    <tr>\n",
       "      <th>2022-03-29</th>\n",
       "      <td>169.315002</td>\n",
       "      <td>43.191227</td>\n",
       "      <td>410.819336</td>\n",
       "      <td>314.677094</td>\n",
       "      <td>1.832212</td>\n",
       "    </tr>\n",
       "    <tr>\n",
       "      <th>2022-03-30</th>\n",
       "      <td>166.300995</td>\n",
       "      <td>42.753750</td>\n",
       "      <td>405.095886</td>\n",
       "      <td>313.130676</td>\n",
       "      <td>2.030288</td>\n",
       "    </tr>\n",
       "    <tr>\n",
       "      <th>2022-03-31</th>\n",
       "      <td>162.997498</td>\n",
       "      <td>40.983944</td>\n",
       "      <td>405.833771</td>\n",
       "      <td>307.593567</td>\n",
       "      <td>2.109519</td>\n",
       "    </tr>\n",
       "  </tbody>\n",
       "</table>\n",
       "</div>"
      ],
      "text/plain": [
       "                  AMZN        BAC         DPZ        MSFT       NAT\n",
       "Date                                                               \n",
       "2022-03-25  164.773499  43.479568  393.599213  302.974335  1.871827\n",
       "2022-03-28  168.990494  43.300598  397.916718  309.978058  1.782692\n",
       "2022-03-29  169.315002  43.191227  410.819336  314.677094  1.832212\n",
       "2022-03-30  166.300995  42.753750  405.095886  313.130676  2.030288\n",
       "2022-03-31  162.997498  40.983944  405.833771  307.593567  2.109519"
      ]
     },
     "execution_count": 4,
     "metadata": {},
     "output_type": "execute_result"
    }
   ],
   "source": [
    "df_ohlc = yf.download(tickers, period=\"max\")\n",
    "df_prices = df_ohlc[\"Adj Close\"]\n",
    "df = df_prices.loc[start_date:end_date]\n",
    "df.tail()"
   ]
  },
  {
   "cell_type": "markdown",
   "id": "c4edb501",
   "metadata": {},
   "source": [
    "### リターンとリスク\n",
    "\n",
    "https://qiita.com/well_living/items/c2445a5705b495002c1d"
   ]
  },
  {
   "cell_type": "code",
   "execution_count": 5,
   "id": "0bdba400",
   "metadata": {},
   "outputs": [],
   "source": [
    "import pypfopt as pfo"
   ]
  },
  {
   "cell_type": "code",
   "execution_count": 6,
   "id": "7efa48d0",
   "metadata": {},
   "outputs": [
    {
     "data": {
      "text/plain": [
       "AMZN    0.323845\n",
       "BAC     0.173477\n",
       "DPZ     0.283813\n",
       "MSFT    0.279823\n",
       "NAT    -0.120900\n",
       "dtype: float64"
      ]
     },
     "execution_count": 6,
     "metadata": {},
     "output_type": "execute_result"
    }
   ],
   "source": [
    "# リターンの平均\n",
    "pfo.expected_returns.mean_historical_return(\n",
    "    df,\n",
    "    returns_data=False,  # リターン or 株価\n",
    "    compounding=True,  # 幾何平均 or 算術平均\n",
    "    frequency=252,\n",
    "    log_returns=False\n",
    ")"
   ]
  },
  {
   "cell_type": "code",
   "execution_count": 7,
   "id": "9239aa26",
   "metadata": {},
   "outputs": [
    {
     "data": {
      "text/plain": [
       "AMZN    0.170319\n",
       "BAC     0.203152\n",
       "DPZ     0.046363\n",
       "MSFT    0.325662\n",
       "NAT     0.075016\n",
       "Name: 2022-03-31 00:00:00, dtype: float64"
      ]
     },
     "execution_count": 7,
     "metadata": {},
     "output_type": "execute_result"
    }
   ],
   "source": [
    "# リターンの指数荷重平均\n",
    "pfo.expected_returns.ema_historical_return(\n",
    "    df,\n",
    "    returns_data=False,  # リターン or 株価\n",
    "    compounding=True,  # 幾何平均 or 算術平均\n",
    "    span=500,\n",
    "    frequency=252,\n",
    "    log_returns=False\n",
    ")"
   ]
  },
  {
   "cell_type": "code",
   "execution_count": 8,
   "id": "53718d06",
   "metadata": {},
   "outputs": [
    {
     "data": {
      "text/html": [
       "<div>\n",
       "<style scoped>\n",
       "    .dataframe tbody tr th:only-of-type {\n",
       "        vertical-align: middle;\n",
       "    }\n",
       "\n",
       "    .dataframe tbody tr th {\n",
       "        vertical-align: top;\n",
       "    }\n",
       "\n",
       "    .dataframe thead th {\n",
       "        text-align: right;\n",
       "    }\n",
       "</style>\n",
       "<table border=\"1\" class=\"dataframe\">\n",
       "  <thead>\n",
       "    <tr style=\"text-align: right;\">\n",
       "      <th></th>\n",
       "      <th>AMZN</th>\n",
       "      <th>BAC</th>\n",
       "      <th>DPZ</th>\n",
       "      <th>MSFT</th>\n",
       "      <th>NAT</th>\n",
       "    </tr>\n",
       "  </thead>\n",
       "  <tbody>\n",
       "    <tr>\n",
       "      <th>AMZN</th>\n",
       "      <td>0.094376</td>\n",
       "      <td>0.028014</td>\n",
       "      <td>0.026352</td>\n",
       "      <td>0.043807</td>\n",
       "      <td>0.030108</td>\n",
       "    </tr>\n",
       "    <tr>\n",
       "      <th>BAC</th>\n",
       "      <td>0.028014</td>\n",
       "      <td>0.097409</td>\n",
       "      <td>0.016624</td>\n",
       "      <td>0.034857</td>\n",
       "      <td>0.050609</td>\n",
       "    </tr>\n",
       "    <tr>\n",
       "      <th>DPZ</th>\n",
       "      <td>0.026352</td>\n",
       "      <td>0.016624</td>\n",
       "      <td>0.078830</td>\n",
       "      <td>0.023916</td>\n",
       "      <td>0.021994</td>\n",
       "    </tr>\n",
       "    <tr>\n",
       "      <th>MSFT</th>\n",
       "      <td>0.043807</td>\n",
       "      <td>0.034857</td>\n",
       "      <td>0.023916</td>\n",
       "      <td>0.066666</td>\n",
       "      <td>0.031937</td>\n",
       "    </tr>\n",
       "    <tr>\n",
       "      <th>NAT</th>\n",
       "      <td>0.030108</td>\n",
       "      <td>0.050609</td>\n",
       "      <td>0.021994</td>\n",
       "      <td>0.031937</td>\n",
       "      <td>0.301227</td>\n",
       "    </tr>\n",
       "  </tbody>\n",
       "</table>\n",
       "</div>"
      ],
      "text/plain": [
       "          AMZN       BAC       DPZ      MSFT       NAT\n",
       "AMZN  0.094376  0.028014  0.026352  0.043807  0.030108\n",
       "BAC   0.028014  0.097409  0.016624  0.034857  0.050609\n",
       "DPZ   0.026352  0.016624  0.078830  0.023916  0.021994\n",
       "MSFT  0.043807  0.034857  0.023916  0.066666  0.031937\n",
       "NAT   0.030108  0.050609  0.021994  0.031937  0.301227"
      ]
     },
     "execution_count": 8,
     "metadata": {},
     "output_type": "execute_result"
    }
   ],
   "source": [
    "# 標本分散共分散行列\n",
    "pfo.risk_models.sample_cov(df, frequency=252)"
   ]
  },
  {
   "cell_type": "code",
   "execution_count": 9,
   "id": "9a54d41d",
   "metadata": {},
   "outputs": [
    {
     "data": {
      "text/html": [
       "<div>\n",
       "<style scoped>\n",
       "    .dataframe tbody tr th:only-of-type {\n",
       "        vertical-align: middle;\n",
       "    }\n",
       "\n",
       "    .dataframe tbody tr th {\n",
       "        vertical-align: top;\n",
       "    }\n",
       "\n",
       "    .dataframe thead th {\n",
       "        text-align: right;\n",
       "    }\n",
       "</style>\n",
       "<table border=\"1\" class=\"dataframe\">\n",
       "  <thead>\n",
       "    <tr style=\"text-align: right;\">\n",
       "      <th></th>\n",
       "      <th>AMZN</th>\n",
       "      <th>BAC</th>\n",
       "      <th>DPZ</th>\n",
       "      <th>MSFT</th>\n",
       "      <th>NAT</th>\n",
       "    </tr>\n",
       "  </thead>\n",
       "  <tbody>\n",
       "    <tr>\n",
       "      <th>AMZN</th>\n",
       "      <td>0.039813</td>\n",
       "      <td>0.021769</td>\n",
       "      <td>0.017420</td>\n",
       "      <td>0.022441</td>\n",
       "      <td>0.028016</td>\n",
       "    </tr>\n",
       "    <tr>\n",
       "      <th>BAC</th>\n",
       "      <td>0.021769</td>\n",
       "      <td>0.045012</td>\n",
       "      <td>0.016442</td>\n",
       "      <td>0.022206</td>\n",
       "      <td>0.034667</td>\n",
       "    </tr>\n",
       "    <tr>\n",
       "      <th>DPZ</th>\n",
       "      <td>0.017420</td>\n",
       "      <td>0.016442</td>\n",
       "      <td>0.033140</td>\n",
       "      <td>0.015877</td>\n",
       "      <td>0.024015</td>\n",
       "    </tr>\n",
       "    <tr>\n",
       "      <th>MSFT</th>\n",
       "      <td>0.022441</td>\n",
       "      <td>0.022206</td>\n",
       "      <td>0.015877</td>\n",
       "      <td>0.030073</td>\n",
       "      <td>0.025956</td>\n",
       "    </tr>\n",
       "    <tr>\n",
       "      <th>NAT</th>\n",
       "      <td>0.028016</td>\n",
       "      <td>0.034667</td>\n",
       "      <td>0.024015</td>\n",
       "      <td>0.025956</td>\n",
       "      <td>0.126351</td>\n",
       "    </tr>\n",
       "  </tbody>\n",
       "</table>\n",
       "</div>"
      ],
      "text/plain": [
       "          AMZN       BAC       DPZ      MSFT       NAT\n",
       "AMZN  0.039813  0.021769  0.017420  0.022441  0.028016\n",
       "BAC   0.021769  0.045012  0.016442  0.022206  0.034667\n",
       "DPZ   0.017420  0.016442  0.033140  0.015877  0.024015\n",
       "MSFT  0.022441  0.022206  0.015877  0.030073  0.025956\n",
       "NAT   0.028016  0.034667  0.024015  0.025956  0.126351"
      ]
     },
     "execution_count": 9,
     "metadata": {},
     "output_type": "execute_result"
    }
   ],
   "source": [
    "# 価格下落のみ考慮した下方半分散行列\n",
    "pfo.risk_models.semicovariance(df, benchmark=0, frequency=252)"
   ]
  },
  {
   "cell_type": "code",
   "execution_count": 10,
   "id": "5c7935a0",
   "metadata": {},
   "outputs": [
    {
     "data": {
      "text/html": [
       "<div>\n",
       "<style scoped>\n",
       "    .dataframe tbody tr th:only-of-type {\n",
       "        vertical-align: middle;\n",
       "    }\n",
       "\n",
       "    .dataframe tbody tr th {\n",
       "        vertical-align: top;\n",
       "    }\n",
       "\n",
       "    .dataframe thead th {\n",
       "        text-align: right;\n",
       "    }\n",
       "</style>\n",
       "<table border=\"1\" class=\"dataframe\">\n",
       "  <thead>\n",
       "    <tr style=\"text-align: right;\">\n",
       "      <th></th>\n",
       "      <th>AMZN</th>\n",
       "      <th>BAC</th>\n",
       "      <th>DPZ</th>\n",
       "      <th>MSFT</th>\n",
       "      <th>NAT</th>\n",
       "    </tr>\n",
       "  </thead>\n",
       "  <tbody>\n",
       "    <tr>\n",
       "      <th>AMZN</th>\n",
       "      <td>0.143645</td>\n",
       "      <td>0.042966</td>\n",
       "      <td>0.044544</td>\n",
       "      <td>0.066475</td>\n",
       "      <td>0.041844</td>\n",
       "    </tr>\n",
       "    <tr>\n",
       "      <th>BAC</th>\n",
       "      <td>0.042966</td>\n",
       "      <td>0.098608</td>\n",
       "      <td>0.008346</td>\n",
       "      <td>0.031032</td>\n",
       "      <td>0.010757</td>\n",
       "    </tr>\n",
       "    <tr>\n",
       "      <th>DPZ</th>\n",
       "      <td>0.044544</td>\n",
       "      <td>0.008346</td>\n",
       "      <td>0.098322</td>\n",
       "      <td>0.039499</td>\n",
       "      <td>0.035273</td>\n",
       "    </tr>\n",
       "    <tr>\n",
       "      <th>MSFT</th>\n",
       "      <td>0.066475</td>\n",
       "      <td>0.031032</td>\n",
       "      <td>0.039499</td>\n",
       "      <td>0.077875</td>\n",
       "      <td>0.020476</td>\n",
       "    </tr>\n",
       "    <tr>\n",
       "      <th>NAT</th>\n",
       "      <td>0.041844</td>\n",
       "      <td>0.010757</td>\n",
       "      <td>0.035273</td>\n",
       "      <td>0.020476</td>\n",
       "      <td>0.529860</td>\n",
       "    </tr>\n",
       "  </tbody>\n",
       "</table>\n",
       "</div>"
      ],
      "text/plain": [
       "          AMZN       BAC       DPZ      MSFT       NAT\n",
       "AMZN  0.143645  0.042966  0.044544  0.066475  0.041844\n",
       "BAC   0.042966  0.098608  0.008346  0.031032  0.010757\n",
       "DPZ   0.044544  0.008346  0.098322  0.039499  0.035273\n",
       "MSFT  0.066475  0.031032  0.039499  0.077875  0.020476\n",
       "NAT   0.041844  0.010757  0.035273  0.020476  0.529860"
      ]
     },
     "execution_count": 10,
     "metadata": {},
     "output_type": "execute_result"
    }
   ],
   "source": [
    "# 指数加重分散共分散行列\n",
    "pfo.risk_models.exp_cov(df, span=180, frequency=252)"
   ]
  },
  {
   "cell_type": "code",
   "execution_count": 11,
   "id": "ccc4b211",
   "metadata": {},
   "outputs": [
    {
     "name": "stderr",
     "output_type": "stream",
     "text": [
      "/home/oga/.local/lib/python3.8/site-packages/pypfopt/risk_models.py:293: UserWarning: min_cov_determinant is deprecated and will be removed in v1.5\n",
      "  warnings.warn(\"min_cov_determinant is deprecated and will be removed in v1.5\")\n"
     ]
    },
    {
     "data": {
      "text/html": [
       "<div>\n",
       "<style scoped>\n",
       "    .dataframe tbody tr th:only-of-type {\n",
       "        vertical-align: middle;\n",
       "    }\n",
       "\n",
       "    .dataframe tbody tr th {\n",
       "        vertical-align: top;\n",
       "    }\n",
       "\n",
       "    .dataframe thead th {\n",
       "        text-align: right;\n",
       "    }\n",
       "</style>\n",
       "<table border=\"1\" class=\"dataframe\">\n",
       "  <thead>\n",
       "    <tr style=\"text-align: right;\">\n",
       "      <th></th>\n",
       "      <th>AMZN</th>\n",
       "      <th>BAC</th>\n",
       "      <th>DPZ</th>\n",
       "      <th>MSFT</th>\n",
       "      <th>NAT</th>\n",
       "    </tr>\n",
       "  </thead>\n",
       "  <tbody>\n",
       "    <tr>\n",
       "      <th>AMZN</th>\n",
       "      <td>0.024706</td>\n",
       "      <td>0.006468</td>\n",
       "      <td>0.005767</td>\n",
       "      <td>0.009666</td>\n",
       "      <td>0.008233</td>\n",
       "    </tr>\n",
       "    <tr>\n",
       "      <th>BAC</th>\n",
       "      <td>0.006468</td>\n",
       "      <td>0.024913</td>\n",
       "      <td>0.003601</td>\n",
       "      <td>0.005177</td>\n",
       "      <td>0.009991</td>\n",
       "    </tr>\n",
       "    <tr>\n",
       "      <th>DPZ</th>\n",
       "      <td>0.005767</td>\n",
       "      <td>0.003601</td>\n",
       "      <td>0.017690</td>\n",
       "      <td>0.003621</td>\n",
       "      <td>0.004274</td>\n",
       "    </tr>\n",
       "    <tr>\n",
       "      <th>MSFT</th>\n",
       "      <td>0.009666</td>\n",
       "      <td>0.005177</td>\n",
       "      <td>0.003621</td>\n",
       "      <td>0.015606</td>\n",
       "      <td>0.003553</td>\n",
       "    </tr>\n",
       "    <tr>\n",
       "      <th>NAT</th>\n",
       "      <td>0.008233</td>\n",
       "      <td>0.009991</td>\n",
       "      <td>0.004274</td>\n",
       "      <td>0.003553</td>\n",
       "      <td>0.080710</td>\n",
       "    </tr>\n",
       "  </tbody>\n",
       "</table>\n",
       "</div>"
      ],
      "text/plain": [
       "          AMZN       BAC       DPZ      MSFT       NAT\n",
       "AMZN  0.024706  0.006468  0.005767  0.009666  0.008233\n",
       "BAC   0.006468  0.024913  0.003601  0.005177  0.009991\n",
       "DPZ   0.005767  0.003601  0.017690  0.003621  0.004274\n",
       "MSFT  0.009666  0.005177  0.003621  0.015606  0.003553\n",
       "NAT   0.008233  0.009991  0.004274  0.003553  0.080710"
      ]
     },
     "execution_count": 11,
     "metadata": {},
     "output_type": "execute_result"
    }
   ],
   "source": [
    "pfo.risk_models.min_cov_determinant(df, frequency=252, random_state=None)"
   ]
  },
  {
   "cell_type": "code",
   "execution_count": 12,
   "id": "f9d8d6f6",
   "metadata": {},
   "outputs": [
    {
     "data": {
      "text/html": [
       "<div>\n",
       "<style scoped>\n",
       "    .dataframe tbody tr th:only-of-type {\n",
       "        vertical-align: middle;\n",
       "    }\n",
       "\n",
       "    .dataframe tbody tr th {\n",
       "        vertical-align: top;\n",
       "    }\n",
       "\n",
       "    .dataframe thead th {\n",
       "        text-align: right;\n",
       "    }\n",
       "</style>\n",
       "<table border=\"1\" class=\"dataframe\">\n",
       "  <thead>\n",
       "    <tr style=\"text-align: right;\">\n",
       "      <th></th>\n",
       "      <th>AMZN</th>\n",
       "      <th>BAC</th>\n",
       "      <th>DPZ</th>\n",
       "      <th>MSFT</th>\n",
       "      <th>NAT</th>\n",
       "    </tr>\n",
       "  </thead>\n",
       "  <tbody>\n",
       "    <tr>\n",
       "      <th>AMZN</th>\n",
       "      <td>0.094908</td>\n",
       "      <td>0.027525</td>\n",
       "      <td>0.025892</td>\n",
       "      <td>0.043042</td>\n",
       "      <td>0.029582</td>\n",
       "    </tr>\n",
       "    <tr>\n",
       "      <th>BAC</th>\n",
       "      <td>0.027525</td>\n",
       "      <td>0.097887</td>\n",
       "      <td>0.016334</td>\n",
       "      <td>0.034248</td>\n",
       "      <td>0.049725</td>\n",
       "    </tr>\n",
       "    <tr>\n",
       "      <th>DPZ</th>\n",
       "      <td>0.025892</td>\n",
       "      <td>0.016334</td>\n",
       "      <td>0.079633</td>\n",
       "      <td>0.023498</td>\n",
       "      <td>0.021609</td>\n",
       "    </tr>\n",
       "    <tr>\n",
       "      <th>MSFT</th>\n",
       "      <td>0.043042</td>\n",
       "      <td>0.034248</td>\n",
       "      <td>0.023498</td>\n",
       "      <td>0.067682</td>\n",
       "      <td>0.031379</td>\n",
       "    </tr>\n",
       "    <tr>\n",
       "      <th>NAT</th>\n",
       "      <td>0.029582</td>\n",
       "      <td>0.049725</td>\n",
       "      <td>0.021609</td>\n",
       "      <td>0.031379</td>\n",
       "      <td>0.298145</td>\n",
       "    </tr>\n",
       "  </tbody>\n",
       "</table>\n",
       "</div>"
      ],
      "text/plain": [
       "          AMZN       BAC       DPZ      MSFT       NAT\n",
       "AMZN  0.094908  0.027525  0.025892  0.043042  0.029582\n",
       "BAC   0.027525  0.097887  0.016334  0.034248  0.049725\n",
       "DPZ   0.025892  0.016334  0.079633  0.023498  0.021609\n",
       "MSFT  0.043042  0.034248  0.023498  0.067682  0.031379\n",
       "NAT   0.029582  0.049725  0.021609  0.031379  0.298145"
      ]
     },
     "execution_count": 12,
     "metadata": {},
     "output_type": "execute_result"
    }
   ],
   "source": [
    "cs = pfo.risk_models.CovarianceShrinkage(df, frequency=252)\n",
    "cs.ledoit_wolf()"
   ]
  },
  {
   "cell_type": "markdown",
   "id": "c1fb7b3e",
   "metadata": {},
   "source": [
    "### ポートフォリオ最適化\n",
    "\n",
    "https://github.com/robertmartin8/PyPortfolioOpt/blob/master/cookbook/2-Mean-Variance-Optimisation.ipynb"
   ]
  },
  {
   "cell_type": "code",
   "execution_count": 13,
   "id": "e8bab162",
   "metadata": {},
   "outputs": [],
   "source": [
    "from pypfopt import plotting"
   ]
  },
  {
   "cell_type": "code",
   "execution_count": 14,
   "id": "78d84fbb",
   "metadata": {},
   "outputs": [],
   "source": [
    "mu = pfo.expected_returns.mean_historical_return(df)\n",
    "S = pfo.risk_models.sample_cov(df)"
   ]
  },
  {
   "cell_type": "code",
   "execution_count": 15,
   "id": "b58af69e",
   "metadata": {},
   "outputs": [
    {
     "data": {
      "image/png": "[encoded data removed]",
      "text/plain": [
       "<Figure size 432x288 with 2 Axes>"
      ]
     },
     "metadata": {
      "needs_background": "light"
     },
     "output_type": "display_data"
    }
   ],
   "source": [
    "pfo.plotting.plot_covariance(S, plot_correlation=True);"
   ]
  },
  {
   "cell_type": "code",
   "execution_count": 16,
   "id": "975316fb",
   "metadata": {},
   "outputs": [
    {
     "data": {
      "text/plain": [
       "OrderedDict([('AMZN', 0.1399505450297059),\n",
       "             ('BAC', 0.207520685721197),\n",
       "             ('DPZ', 0.3380914360998427),\n",
       "             ('MSFT', 0.2808263045723976),\n",
       "             ('NAT', 0.0336110285768567)])"
      ]
     },
     "execution_count": 16,
     "metadata": {},
     "output_type": "execute_result"
    }
   ],
   "source": [
    "# 目標リターン制約あり分散最小化\n",
    "ef = pfo.efficient_frontier.EfficientFrontier(mu, S)\n",
    "ef.efficient_return(target_return=0.1)"
   ]
  },
  {
   "cell_type": "code",
   "execution_count": 17,
   "id": "c998955c",
   "metadata": {},
   "outputs": [
    {
     "name": "stdout",
     "output_type": "stream",
     "text": [
      "Expected annual return: 25.2%\n",
      "Annual volatility: 20.3%\n",
      "Sharpe Ratio: 1.14\n"
     ]
    },
    {
     "data": {
      "text/plain": [
       "(0.2517953813288073, 0.20308908088096797, 1.1413483202706713)"
      ]
     },
     "execution_count": 17,
     "metadata": {},
     "output_type": "execute_result"
    }
   ],
   "source": [
    "ef.portfolio_performance(verbose=True)"
   ]
  },
  {
   "cell_type": "code",
   "execution_count": 18,
   "id": "037d47ee",
   "metadata": {},
   "outputs": [
    {
     "data": {
      "image/png": "[encoded data removed]",
      "text/plain": [
       "<Figure size 432x288 with 1 Axes>"
      ]
     },
     "metadata": {
      "needs_background": "light"
     },
     "output_type": "display_data"
    }
   ],
   "source": [
    "weights = ef.clean_weights()\n",
    "pd.Series(weights).plot.barh();"
   ]
  },
  {
   "cell_type": "code",
   "execution_count": 19,
   "id": "15d15cfa",
   "metadata": {},
   "outputs": [
    {
     "data": {
      "image/png": "[encoded data removed]",
      "text/plain": [
       "<Figure size 432x432 with 1 Axes>"
      ]
     },
     "metadata": {},
     "output_type": "display_data"
    }
   ],
   "source": [
    "pd.Series(weights).plot.pie(figsize=(6, 6));"
   ]
  },
  {
   "cell_type": "code",
   "execution_count": 20,
   "id": "18df45a6",
   "metadata": {},
   "outputs": [
    {
     "data": {
      "text/plain": [
       "OrderedDict([('AMZN', 0.1399505450297059),\n",
       "             ('BAC', 0.207520685721197),\n",
       "             ('DPZ', 0.3380914360998427),\n",
       "             ('MSFT', 0.2808263045723976),\n",
       "             ('NAT', 0.0336110285768567)])"
      ]
     },
     "execution_count": 20,
     "metadata": {},
     "output_type": "execute_result"
    }
   ],
   "source": [
    "# 空売りを許す場合\n",
    "ef = pfo.efficient_frontier.EfficientFrontier(\n",
    "    expected_returns=mu,\n",
    "    cov_matrix=S,\n",
    "    weight_bounds=(-1, 1)  # 空売り制約を調整\n",
    ")\n",
    "ef.efficient_return(target_return=0.1)"
   ]
  },
  {
   "cell_type": "code",
   "execution_count": 21,
   "id": "1899cbff",
   "metadata": {},
   "outputs": [
    {
     "data": {
      "text/plain": [
       "OrderedDict([('AMZN', 0.1399505450297059),\n",
       "             ('BAC', 0.207520685721197),\n",
       "             ('DPZ', 0.3380914360998427),\n",
       "             ('MSFT', 0.2808263045723976),\n",
       "             ('NAT', 0.0336110285768567)])"
      ]
     },
     "execution_count": 21,
     "metadata": {},
     "output_type": "execute_result"
    }
   ],
   "source": [
    "# 最小分散ポートフォリオ\n",
    "ef = pfo.efficient_frontier.EfficientFrontier(mu, S)\n",
    "ef.min_volatility()"
   ]
  },
  {
   "cell_type": "code",
   "execution_count": 22,
   "id": "b6139faa",
   "metadata": {},
   "outputs": [
    {
     "name": "stderr",
     "output_type": "stream",
     "text": [
      "/home/oga/.local/lib/python3.8/site-packages/pypfopt/efficient_frontier/efficient_frontier.py:257: UserWarning: max_sharpe transforms the optimization problem so additional objectives may not work as expected.\n",
      "  warnings.warn(\n"
     ]
    },
    {
     "data": {
      "text/plain": [
       "OrderedDict([('AMZN', 0.3323024718575019),\n",
       "             ('BAC', 0.1676975281424983),\n",
       "             ('DPZ', 0.2550461678050278),\n",
       "             ('MSFT', 0.244953832194972),\n",
       "             ('NAT', 0.0)])"
      ]
     },
     "execution_count": 22,
     "metadata": {},
     "output_type": "execute_result"
    }
   ],
   "source": [
    "# シャープ・レシオ最大化\n",
    "ef = pfo.efficient_frontier.EfficientFrontier(\n",
    "    mu,\n",
    "    S,\n",
    "    weight_bounds=(0, 1)  # weight bounds\n",
    ")\n",
    "# 制約式を追加\n",
    "ef.add_constraint(lambda w: w[0] <= 0.5)\n",
    "ef.add_constraint(lambda w: w[1] >= 0.1)\n",
    "ef.add_constraint(lambda w: w[2] + w[3] <= 0.5)\n",
    "# L2正則化項を追加\n",
    "ef.add_objective(pfo.objective_functions.L2_reg, gamma=1)\n",
    "\n",
    "ef.max_sharpe(risk_free_rate=0.02)"
   ]
  },
  {
   "cell_type": "code",
   "execution_count": 23,
   "id": "efa18ef6",
   "metadata": {},
   "outputs": [
    {
     "data": {
      "text/plain": [
       "OrderedDict([('AMZN', 0.1072871191774033),\n",
       "             ('BAC', 0.1929684464246123),\n",
       "             ('DPZ', 0.3490393009394809),\n",
       "             ('MSFT', 0.2930461124972256),\n",
       "             ('NAT', 0.0576590209612778)])"
      ]
     },
     "execution_count": 23,
     "metadata": {},
     "output_type": "execute_result"
    }
   ],
   "source": [
    "# CVaR最適化\n",
    "returns = pfo.expected_returns.returns_from_prices(df).dropna()\n",
    "ec = pfo.efficient_frontier.EfficientCVaR(\n",
    "    expected_returns=mu,\n",
    "    returns=returns,\n",
    "    beta=0.95,\n",
    "    weight_bounds=(0, 1)\n",
    ")\n",
    "ec.efficient_return(target_return=0.1)"
   ]
  },
  {
   "cell_type": "code",
   "execution_count": 24,
   "id": "d9bf07f9",
   "metadata": {},
   "outputs": [
    {
     "name": "stdout",
     "output_type": "stream",
     "text": [
      "Expected annual return: 24.2%\n",
      "Conditional Value at Risk: 2.97%\n"
     ]
    },
    {
     "data": {
      "text/plain": [
       "(0.2423121523996347, 0.029665276783100804)"
      ]
     },
     "execution_count": 24,
     "metadata": {},
     "output_type": "execute_result"
    }
   ],
   "source": [
    "ec.portfolio_performance(verbose=True)"
   ]
  },
  {
   "cell_type": "code",
   "execution_count": 25,
   "id": "72329210",
   "metadata": {},
   "outputs": [
    {
     "data": {
      "text/plain": [
       "OrderedDict([('AMZN', 0.1072871191781378),\n",
       "             ('BAC', 0.1929684464251698),\n",
       "             ('DPZ', 0.3490393009410182),\n",
       "             ('MSFT', 0.2930461124952282),\n",
       "             ('NAT', 0.057659020960446)])"
      ]
     },
     "execution_count": 25,
     "metadata": {},
     "output_type": "execute_result"
    }
   ],
   "source": [
    "# CVaR最適化\n",
    "returns = pfo.expected_returns.returns_from_prices(df).dropna()\n",
    "ec = pfo.efficient_frontier.EfficientCVaR(\n",
    "    expected_returns=mu,\n",
    "    returns=returns,\n",
    "    beta=0.95,\n",
    "    weight_bounds=(0, 1)\n",
    ")\n",
    "ec.min_cvar()"
   ]
  },
  {
   "cell_type": "markdown",
   "id": "0b8137fd",
   "metadata": {},
   "source": [
    "### Discrete Allocation\n",
    "\n",
    "https://pyportfolioopt.readthedocs.io/en/latest/Postprocessing.html"
   ]
  },
  {
   "cell_type": "code",
   "execution_count": 26,
   "id": "db4944ae",
   "metadata": {},
   "outputs": [
    {
     "name": "stdout",
     "output_type": "stream",
     "text": [
      "Leftover: $0.03\n"
     ]
    },
    {
     "data": {
      "text/plain": [
       "{'AMZN': 25, 'BAC': 129, 'DPZ': 17, 'MSFT': 22, 'NAT': 288}"
      ]
     },
     "execution_count": 26,
     "metadata": {},
     "output_type": "execute_result"
    }
   ],
   "source": [
    "da = pfo.DiscreteAllocation(weights, df_prices.iloc[-1], total_portfolio_value=20000)\n",
    "alloc, leftover = da.lp_portfolio()\n",
    "print(f\"Leftover: ${leftover:.2f}\")\n",
    "alloc"
   ]
  },
  {
   "cell_type": "markdown",
   "id": "2a9710da",
   "metadata": {},
   "source": [
    "### plot\n",
    "\n",
    "https://pyportfolioopt.readthedocs.io/en/latest/Plotting.html"
   ]
  },
  {
   "cell_type": "code",
   "execution_count": 27,
   "id": "ac6887be",
   "metadata": {},
   "outputs": [],
   "source": [
    "import copy"
   ]
  },
  {
   "cell_type": "code",
   "execution_count": 28,
   "id": "0bfed936",
   "metadata": {},
   "outputs": [
    {
     "data": {
      "image/png": "[encoded data removed]",
      "text/plain": [
       "<Figure size 432x288 with 1 Axes>"
      ]
     },
     "metadata": {
      "needs_background": "light"
     },
     "output_type": "display_data"
    }
   ],
   "source": [
    "# 効率的フロンティアをプロット\n",
    "ef = pfo.efficient_frontier.EfficientFrontier(mu, S)\n",
    "\n",
    "fig, ax = plt.subplots()\n",
    "plotting.plot_efficient_frontier(ef, ax=ax, show_assets=True)\n",
    "plt.show()"
   ]
  },
  {
   "cell_type": "code",
   "execution_count": 29,
   "id": "c53a4282",
   "metadata": {},
   "outputs": [
    {
     "data": {
      "image/png": "[encoded data removed]",
      "text/plain": [
       "<Figure size 432x288 with 1 Axes>"
      ]
     },
     "metadata": {
      "needs_background": "light"
     },
     "output_type": "display_data"
    }
   ],
   "source": [
    "# 効率的フロンティアをプロット\n",
    "ef = pfo.efficient_frontier.EfficientFrontier(mu, S)\n",
    "\n",
    "fig, ax = plt.subplots()\n",
    "ef_max_sharpe = copy.deepcopy(ef)\n",
    "plotting.plot_efficient_frontier(ef, ax=ax, show_assets=False)\n",
    "\n",
    "# Find the tangency portfolio\n",
    "ef_max_sharpe.max_sharpe()\n",
    "ret_tangent, std_tangent, _ = ef_max_sharpe.portfolio_performance()\n",
    "ax.scatter(std_tangent, ret_tangent, marker=\"*\", s=100, c=\"r\", label=\"Max Sharpe\")\n",
    "\n",
    "# Generate random portfolios\n",
    "n_samples = 10000\n",
    "w = np.random.dirichlet(np.ones(ef.n_assets), n_samples)\n",
    "rets = w.dot(ef.expected_returns)\n",
    "stds = np.sqrt(np.diag(w @ ef.cov_matrix @ w.T))\n",
    "sharpes = rets / stds\n",
    "ax.scatter(stds, rets, marker=\".\", c=sharpes, cmap=\"viridis_r\")\n",
    "\n",
    "# Output\n",
    "ax.set_title(\"Efficient Frontier with random portfolios\")\n",
    "ax.legend()\n",
    "plt.tight_layout()\n",
    "plt.show()"
   ]
  }
 ],
 "metadata": {
  "kernelspec": {
   "display_name": "Python 3",
   "language": "python",
   "name": "python3"
  },
  "language_info": {
   "codemirror_mode": {
    "name": "ipython",
    "version": 3
   },
   "file_extension": ".py",
   "mimetype": "text/x-python",
   "name": "python",
   "nbconvert_exporter": "python",
   "pygments_lexer": "ipython3",
   "version": "3.8.10"
  }
 },
 "nbformat": 4,
 "nbformat_minor": 5
}
